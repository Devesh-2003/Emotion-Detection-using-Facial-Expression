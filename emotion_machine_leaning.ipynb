{
 "cells": [
  {
   "cell_type": "code",
   "execution_count": 1,
   "id": "0ece08fb-c456-4890-b317-9dc56171a1ae",
   "metadata": {},
   "outputs": [
    {
     "name": "stdout",
     "output_type": "stream",
     "text": [
      "WARNING:tensorflow:From c:\\Users\\ACER\\AppData\\Local\\Programs\\Python\\Python311\\Lib\\site-packages\\keras\\src\\losses.py:2976: The name tf.losses.sparse_softmax_cross_entropy is deprecated. Please use tf.compat.v1.losses.sparse_softmax_cross_entropy instead.\n",
      "\n"
     ]
    }
   ],
   "source": [
    "from sklearn.preprocessing import LabelEncoder\n",
    "import matplotlib.pyplot as plt\n",
    "%matplotlib inline\n",
    "\n",
    "from keras.utils import to_categorical\n",
    "from keras_preprocessing.image import load_img\n",
    "from keras.models import Sequential\n",
    "from keras.layers import Dense, Conv2D, Dropout, Flatten, MaxPooling2D\n",
    "import os\n",
    "import pandas as pd\n",
    "import numpy as np\n",
    "from tqdm.notebook import tqdm\n",
    "from keras.models import model_from_json"
   ]
  },
  {
   "cell_type": "code",
   "execution_count": 4,
   "id": "6dcc7771-f608-4b41-922a-46089b2f2e6b",
   "metadata": {},
   "outputs": [],
   "source": [
    "def frame_img(dir):\n",
    "    image_paths = []\n",
    "    labels = []\n",
    "    for label in os.listdir(dir):\n",
    "        for imagename in os.listdir(os.path.join(dir,label)):\n",
    "            image_paths.append(os.path.join(dir,label,imagename))\n",
    "            labels.append(label)\n",
    "        print(label, \"completed\")\n",
    "    return image_paths,labels"
   ]
  },
  {
   "cell_type": "code",
   "execution_count": 3,
   "id": "9cef1cd6-c993-429a-988c-e3f4174eefd8",
   "metadata": {},
   "outputs": [],
   "source": [
    "TRAIN_DIR = 'images/training_dataset'\n",
    "TEST_DIR = 'images/testing_dataset'"
   ]
  },
  {
   "cell_type": "code",
   "execution_count": 5,
   "id": "14feaca0-a2ac-4a4d-8430-73b49802f5b6",
   "metadata": {},
   "outputs": [
    {
     "name": "stdout",
     "output_type": "stream",
     "text": [
      "angry completed\n",
      "disgust completed\n",
      "fear completed\n",
      "happy completed\n",
      "neutral completed\n",
      "sad completed\n",
      "surprise completed\n"
     ]
    }
   ],
   "source": [
    "train = pd.DataFrame()\n",
    "train['image'], train['label'] = frame_img(TRAIN_DIR)"
   ]
  },
  {
   "cell_type": "code",
   "execution_count": 7,
   "id": "4cfc79a4-9f17-4efc-bb0b-087e94c88aff",
   "metadata": {},
   "outputs": [
    {
     "name": "stdout",
     "output_type": "stream",
     "text": [
      "angry completed\n",
      "disgust completed\n",
      "fear completed\n",
      "happy completed\n",
      "neutral completed\n",
      "sad completed\n",
      "surprise completed\n"
     ]
    }
   ],
   "source": [
    "test = pd.DataFrame()\n",
    "test['image'], test['label'] = frame_img(TEST_DIR)"
   ]
  },
  {
   "cell_type": "code",
   "execution_count": 10,
   "id": "1e4efc3f-f58c-43f3-9161-d217db0159b3",
   "metadata": {},
   "outputs": [],
   "source": [
    "def fetch_fetchers(images):\n",
    "    features = []\n",
    "    for image in tqdm(images):\n",
    "        img = load_img(image,grayscale =  True )\n",
    "        img = np.array(img)\n",
    "        features.append(img)\n",
    "    features = np.array(features)\n",
    "    features = features.reshape(len(features),48,48,1)\n",
    "    return features"
   ]
  },
  {
   "cell_type": "code",
   "execution_count": 12,
   "id": "5699ba4f-8d41-46fd-a266-76fffdd70329",
   "metadata": {},
   "outputs": [
    {
     "data": {
      "application/vnd.jupyter.widget-view+json": {
       "model_id": "685040dc0f2a42d186667433dab0c42e",
       "version_major": 2,
       "version_minor": 0
      },
      "text/plain": [
       "  0%|          | 0/28821 [00:00<?, ?it/s]"
      ]
     },
     "metadata": {},
     "output_type": "display_data"
    },
    {
     "name": "stderr",
     "output_type": "stream",
     "text": [
      "C:\\Users\\ACER\\AppData\\Local\\Programs\\Python\\Python311\\Lib\\site-packages\\keras\\src\\utils\\image_utils.py:409: UserWarning: grayscale is deprecated. Please use color_mode = \"grayscale\"\n",
      "  warnings.warn(\n"
     ]
    }
   ],
   "source": [
    "train_features = fetch_fetchers(train['image']) "
   ]
  },
  {
   "cell_type": "code",
   "execution_count": 13,
   "id": "ed362073-81df-47cf-ab3f-3d0a434be199",
   "metadata": {},
   "outputs": [
    {
     "data": {
      "application/vnd.jupyter.widget-view+json": {
       "model_id": "716250b9764c49d38612313abe3b056b",
       "version_major": 2,
       "version_minor": 0
      },
      "text/plain": [
       "  0%|          | 0/7066 [00:00<?, ?it/s]"
      ]
     },
     "metadata": {},
     "output_type": "display_data"
    }
   ],
   "source": [
    "test_features = fetch_fetchers(test['image'])"
   ]
  },
  {
   "cell_type": "code",
   "execution_count": 14,
   "id": "42f5803d-d7d7-4aac-8b01-48bd52aeae19",
   "metadata": {},
   "outputs": [],
   "source": [
    "norm_x = train_features/255.0\n",
    "norm_y = test_features/255.0"
   ]
  },
  {
   "cell_type": "code",
   "execution_count": 17,
   "id": "25d16695-14e4-47ac-bc30-5b2db5b1b3db",
   "metadata": {},
   "outputs": [
    {
     "data": {
      "text/html": [
       "<style>#sk-container-id-2 {color: black;}#sk-container-id-2 pre{padding: 0;}#sk-container-id-2 div.sk-toggleable {background-color: white;}#sk-container-id-2 label.sk-toggleable__label {cursor: pointer;display: block;width: 100%;margin-bottom: 0;padding: 0.3em;box-sizing: border-box;text-align: center;}#sk-container-id-2 label.sk-toggleable__label-arrow:before {content: \"▸\";float: left;margin-right: 0.25em;color: #696969;}#sk-container-id-2 label.sk-toggleable__label-arrow:hover:before {color: black;}#sk-container-id-2 div.sk-estimator:hover label.sk-toggleable__label-arrow:before {color: black;}#sk-container-id-2 div.sk-toggleable__content {max-height: 0;max-width: 0;overflow: hidden;text-align: left;background-color: #f0f8ff;}#sk-container-id-2 div.sk-toggleable__content pre {margin: 0.2em;color: black;border-radius: 0.25em;background-color: #f0f8ff;}#sk-container-id-2 input.sk-toggleable__control:checked~div.sk-toggleable__content {max-height: 200px;max-width: 100%;overflow: auto;}#sk-container-id-2 input.sk-toggleable__control:checked~label.sk-toggleable__label-arrow:before {content: \"▾\";}#sk-container-id-2 div.sk-estimator input.sk-toggleable__control:checked~label.sk-toggleable__label {background-color: #d4ebff;}#sk-container-id-2 div.sk-label input.sk-toggleable__control:checked~label.sk-toggleable__label {background-color: #d4ebff;}#sk-container-id-2 input.sk-hidden--visually {border: 0;clip: rect(1px 1px 1px 1px);clip: rect(1px, 1px, 1px, 1px);height: 1px;margin: -1px;overflow: hidden;padding: 0;position: absolute;width: 1px;}#sk-container-id-2 div.sk-estimator {font-family: monospace;background-color: #f0f8ff;border: 1px dotted black;border-radius: 0.25em;box-sizing: border-box;margin-bottom: 0.5em;}#sk-container-id-2 div.sk-estimator:hover {background-color: #d4ebff;}#sk-container-id-2 div.sk-parallel-item::after {content: \"\";width: 100%;border-bottom: 1px solid gray;flex-grow: 1;}#sk-container-id-2 div.sk-label:hover label.sk-toggleable__label {background-color: #d4ebff;}#sk-container-id-2 div.sk-serial::before {content: \"\";position: absolute;border-left: 1px solid gray;box-sizing: border-box;top: 0;bottom: 0;left: 50%;z-index: 0;}#sk-container-id-2 div.sk-serial {display: flex;flex-direction: column;align-items: center;background-color: white;padding-right: 0.2em;padding-left: 0.2em;position: relative;}#sk-container-id-2 div.sk-item {position: relative;z-index: 1;}#sk-container-id-2 div.sk-parallel {display: flex;align-items: stretch;justify-content: center;background-color: white;position: relative;}#sk-container-id-2 div.sk-item::before, #sk-container-id-2 div.sk-parallel-item::before {content: \"\";position: absolute;border-left: 1px solid gray;box-sizing: border-box;top: 0;bottom: 0;left: 50%;z-index: -1;}#sk-container-id-2 div.sk-parallel-item {display: flex;flex-direction: column;z-index: 1;position: relative;background-color: white;}#sk-container-id-2 div.sk-parallel-item:first-child::after {align-self: flex-end;width: 50%;}#sk-container-id-2 div.sk-parallel-item:last-child::after {align-self: flex-start;width: 50%;}#sk-container-id-2 div.sk-parallel-item:only-child::after {width: 0;}#sk-container-id-2 div.sk-dashed-wrapped {border: 1px dashed gray;margin: 0 0.4em 0.5em 0.4em;box-sizing: border-box;padding-bottom: 0.4em;background-color: white;}#sk-container-id-2 div.sk-label label {font-family: monospace;font-weight: bold;display: inline-block;line-height: 1.2em;}#sk-container-id-2 div.sk-label-container {text-align: center;}#sk-container-id-2 div.sk-container {/* jupyter's `normalize.less` sets `[hidden] { display: none; }` but bootstrap.min.css set `[hidden] { display: none !important; }` so we also need the `!important` here to be able to override the default hidden behavior on the sphinx rendered scikit-learn.org. See: https://github.com/scikit-learn/scikit-learn/issues/21755 */display: inline-block !important;position: relative;}#sk-container-id-2 div.sk-text-repr-fallback {display: none;}</style><div id=\"sk-container-id-2\" class=\"sk-top-container\"><div class=\"sk-text-repr-fallback\"><pre>LabelEncoder()</pre><b>In a Jupyter environment, please rerun this cell to show the HTML representation or trust the notebook. <br />On GitHub, the HTML representation is unable to render, please try loading this page with nbviewer.org.</b></div><div class=\"sk-container\" hidden><div class=\"sk-item\"><div class=\"sk-estimator sk-toggleable\"><input class=\"sk-toggleable__control sk-hidden--visually\" id=\"sk-estimator-id-2\" type=\"checkbox\" checked><label for=\"sk-estimator-id-2\" class=\"sk-toggleable__label sk-toggleable__label-arrow\">LabelEncoder</label><div class=\"sk-toggleable__content\"><pre>LabelEncoder()</pre></div></div></div></div></div>"
      ],
      "text/plain": [
       "LabelEncoder()"
      ]
     },
     "execution_count": 17,
     "metadata": {},
     "output_type": "execute_result"
    }
   ],
   "source": [
    "le = LabelEncoder()\n",
    "le.fit(train['label'])"
   ]
  },
  {
   "cell_type": "code",
   "execution_count": 18,
   "id": "9a798900-1a0c-4756-befc-7ec23d80a86c",
   "metadata": {},
   "outputs": [],
   "source": [
    "y_train = le.transform(train['label'])\n",
    "y_test = le.transform(test['label'])"
   ]
  },
  {
   "cell_type": "code",
   "execution_count": 19,
   "id": "e5949840-c087-4682-80c8-ad80b3073442",
   "metadata": {},
   "outputs": [],
   "source": [
    "y_train = to_categorical(y_train,num_classes = 7)\n",
    "y_test = to_categorical(y_test,num_classes = 7)"
   ]
  },
  {
   "cell_type": "code",
   "execution_count": 20,
   "id": "1a78b006-fb24-4328-9ce2-e33bec5585a7",
   "metadata": {},
   "outputs": [
    {
     "name": "stdout",
     "output_type": "stream",
     "text": [
      "WARNING:tensorflow:From C:\\Users\\ACER\\AppData\\Local\\Programs\\Python\\Python311\\Lib\\site-packages\\keras\\src\\backend.py:873: The name tf.get_default_graph is deprecated. Please use tf.compat.v1.get_default_graph instead.\n",
      "\n",
      "WARNING:tensorflow:From C:\\Users\\ACER\\AppData\\Local\\Programs\\Python\\Python311\\Lib\\site-packages\\keras\\src\\layers\\pooling\\max_pooling2d.py:161: The name tf.nn.max_pool is deprecated. Please use tf.nn.max_pool2d instead.\n",
      "\n"
     ]
    }
   ],
   "source": [
    "model = Sequential()\n",
    "\n",
    "model.add(Conv2D(128, kernel_size=(3,3), activation='relu', input_shape=(48,48,1)))\n",
    "model.add(MaxPooling2D(pool_size=(2,2)))\n",
    "model.add(Dropout(0.4))\n",
    "\n",
    "model.add(Conv2D(256, kernel_size=(3,3), activation='relu'))\n",
    "model.add(MaxPooling2D(pool_size=(2,2)))\n",
    "model.add(Dropout(0.4))\n",
    "\n",
    "model.add(Conv2D(512, kernel_size=(3,3), activation='relu'))\n",
    "model.add(MaxPooling2D(pool_size=(2,2)))\n",
    "model.add(Dropout(0.4))\n",
    "\n",
    "model.add(Conv2D(512, kernel_size=(3,3), activation='relu'))\n",
    "model.add(MaxPooling2D(pool_size=(2,2)))\n",
    "model.add(Dropout(0.4))\n",
    "\n",
    "model.add(Flatten())\n",
    "model.add(Dense(512, activation='relu'))\n",
    "model.add(Dropout(0.4))\n",
    "model.add(Dense(256, activation='relu'))\n",
    "model.add(Dropout(0.3))\n",
    "\n",
    "model.add(Dense(7, activation='softmax'))"
   ]
  },
  {
   "cell_type": "code",
   "execution_count": 21,
   "id": "812ec62c-ca61-4326-892a-2a75cf2ec4ce",
   "metadata": {},
   "outputs": [
    {
     "name": "stdout",
     "output_type": "stream",
     "text": [
      "WARNING:tensorflow:From C:\\Users\\ACER\\AppData\\Local\\Programs\\Python\\Python311\\Lib\\site-packages\\keras\\src\\optimizers\\__init__.py:309: The name tf.train.Optimizer is deprecated. Please use tf.compat.v1.train.Optimizer instead.\n",
      "\n"
     ]
    }
   ],
   "source": [
    "model.compile(optimizer = 'adam', loss = 'categorical_crossentropy', metrics = 'accuracy' )\n"
   ]
  },
  {
   "cell_type": "code",
   "execution_count": 22,
   "id": "43ebc010-3d4b-4088-9d40-4cbaaa734ec3",
   "metadata": {},
   "outputs": [
    {
     "name": "stdout",
     "output_type": "stream",
     "text": [
      "Epoch 1/100\n",
      "WARNING:tensorflow:From C:\\Users\\ACER\\AppData\\Local\\Programs\\Python\\Python311\\Lib\\site-packages\\keras\\src\\utils\\tf_utils.py:492: The name tf.ragged.RaggedTensorValue is deprecated. Please use tf.compat.v1.ragged.RaggedTensorValue instead.\n",
      "\n",
      "WARNING:tensorflow:From C:\\Users\\ACER\\AppData\\Local\\Programs\\Python\\Python311\\Lib\\site-packages\\keras\\src\\engine\\base_layer_utils.py:384: The name tf.executing_eagerly_outside_functions is deprecated. Please use tf.compat.v1.executing_eagerly_outside_functions instead.\n",
      "\n",
      "226/226 [==============================] - 165s 725ms/step - loss: 1.8212 - accuracy: 0.2439 - val_loss: 1.7891 - val_accuracy: 0.2620\n",
      "Epoch 2/100\n",
      "226/226 [==============================] - 158s 699ms/step - loss: 1.7666 - accuracy: 0.2651 - val_loss: 1.6812 - val_accuracy: 0.3227\n",
      "Epoch 3/100\n",
      "226/226 [==============================] - 163s 720ms/step - loss: 1.6462 - accuracy: 0.3415 - val_loss: 1.5498 - val_accuracy: 0.3885\n",
      "Epoch 4/100\n",
      "226/226 [==============================] - 160s 708ms/step - loss: 1.5234 - accuracy: 0.4086 - val_loss: 1.3886 - val_accuracy: 0.4658\n",
      "Epoch 5/100\n",
      "226/226 [==============================] - 158s 699ms/step - loss: 1.4432 - accuracy: 0.4449 - val_loss: 1.3356 - val_accuracy: 0.4884\n",
      "Epoch 6/100\n",
      "226/226 [==============================] - 159s 706ms/step - loss: 1.3935 - accuracy: 0.4634 - val_loss: 1.2688 - val_accuracy: 0.5166\n",
      "Epoch 7/100\n",
      "226/226 [==============================] - 161s 711ms/step - loss: 1.3620 - accuracy: 0.4742 - val_loss: 1.2648 - val_accuracy: 0.5167\n",
      "Epoch 8/100\n",
      "226/226 [==============================] - 158s 697ms/step - loss: 1.3265 - accuracy: 0.4935 - val_loss: 1.2226 - val_accuracy: 0.5326\n",
      "Epoch 9/100\n",
      "226/226 [==============================] - 160s 709ms/step - loss: 1.2988 - accuracy: 0.5011 - val_loss: 1.2005 - val_accuracy: 0.5436\n",
      "Epoch 10/100\n",
      "226/226 [==============================] - 160s 708ms/step - loss: 1.2881 - accuracy: 0.5099 - val_loss: 1.2112 - val_accuracy: 0.5376\n",
      "Epoch 11/100\n",
      "226/226 [==============================] - 160s 708ms/step - loss: 1.2642 - accuracy: 0.5197 - val_loss: 1.1702 - val_accuracy: 0.5643\n",
      "Epoch 12/100\n",
      "226/226 [==============================] - 159s 703ms/step - loss: 1.2402 - accuracy: 0.5323 - val_loss: 1.1497 - val_accuracy: 0.5644\n",
      "Epoch 13/100\n",
      "226/226 [==============================] - 158s 698ms/step - loss: 1.2272 - accuracy: 0.5307 - val_loss: 1.1783 - val_accuracy: 0.5541\n",
      "Epoch 14/100\n",
      "226/226 [==============================] - 161s 712ms/step - loss: 1.2127 - accuracy: 0.5357 - val_loss: 1.1428 - val_accuracy: 0.5706\n",
      "Epoch 15/100\n",
      "226/226 [==============================] - 158s 700ms/step - loss: 1.2009 - accuracy: 0.5461 - val_loss: 1.1297 - val_accuracy: 0.5686\n",
      "Epoch 16/100\n",
      "226/226 [==============================] - 158s 701ms/step - loss: 1.1860 - accuracy: 0.5499 - val_loss: 1.1171 - val_accuracy: 0.5766\n",
      "Epoch 17/100\n",
      "226/226 [==============================] - 158s 699ms/step - loss: 1.1777 - accuracy: 0.5545 - val_loss: 1.1095 - val_accuracy: 0.5735\n",
      "Epoch 18/100\n",
      "226/226 [==============================] - 158s 698ms/step - loss: 1.1611 - accuracy: 0.5600 - val_loss: 1.1123 - val_accuracy: 0.5828\n",
      "Epoch 19/100\n",
      "226/226 [==============================] - 158s 698ms/step - loss: 1.1553 - accuracy: 0.5641 - val_loss: 1.0929 - val_accuracy: 0.5821\n",
      "Epoch 20/100\n",
      "226/226 [==============================] - 157s 693ms/step - loss: 1.1381 - accuracy: 0.5685 - val_loss: 1.0887 - val_accuracy: 0.5906\n",
      "Epoch 21/100\n",
      "226/226 [==============================] - 158s 701ms/step - loss: 1.1359 - accuracy: 0.5711 - val_loss: 1.1027 - val_accuracy: 0.5862\n",
      "Epoch 22/100\n",
      "226/226 [==============================] - 157s 695ms/step - loss: 1.1246 - accuracy: 0.5767 - val_loss: 1.0971 - val_accuracy: 0.5907\n",
      "Epoch 23/100\n",
      "226/226 [==============================] - 158s 698ms/step - loss: 1.1179 - accuracy: 0.5753 - val_loss: 1.0840 - val_accuracy: 0.5900\n",
      "Epoch 24/100\n",
      "226/226 [==============================] - 157s 695ms/step - loss: 1.1016 - accuracy: 0.5808 - val_loss: 1.0929 - val_accuracy: 0.5910\n",
      "Epoch 25/100\n",
      "226/226 [==============================] - 158s 700ms/step - loss: 1.0965 - accuracy: 0.5858 - val_loss: 1.0754 - val_accuracy: 0.5931\n",
      "Epoch 26/100\n",
      "226/226 [==============================] - 158s 698ms/step - loss: 1.0878 - accuracy: 0.5862 - val_loss: 1.0860 - val_accuracy: 0.5979\n",
      "Epoch 27/100\n",
      "226/226 [==============================] - 158s 697ms/step - loss: 1.0811 - accuracy: 0.5897 - val_loss: 1.0715 - val_accuracy: 0.5974\n",
      "Epoch 28/100\n",
      "226/226 [==============================] - 158s 698ms/step - loss: 1.0717 - accuracy: 0.5975 - val_loss: 1.0764 - val_accuracy: 0.5978\n",
      "Epoch 29/100\n",
      "226/226 [==============================] - 160s 707ms/step - loss: 1.0694 - accuracy: 0.5962 - val_loss: 1.0649 - val_accuracy: 0.5999\n",
      "Epoch 30/100\n",
      "226/226 [==============================] - 158s 700ms/step - loss: 1.0616 - accuracy: 0.5999 - val_loss: 1.0753 - val_accuracy: 0.5962\n",
      "Epoch 31/100\n",
      "226/226 [==============================] - 158s 698ms/step - loss: 1.0516 - accuracy: 0.6013 - val_loss: 1.0622 - val_accuracy: 0.6025\n",
      "Epoch 32/100\n",
      "226/226 [==============================] - 159s 703ms/step - loss: 1.0494 - accuracy: 0.6020 - val_loss: 1.0786 - val_accuracy: 0.5982\n",
      "Epoch 33/100\n",
      "226/226 [==============================] - 157s 695ms/step - loss: 1.0449 - accuracy: 0.6047 - val_loss: 1.0563 - val_accuracy: 0.6142\n",
      "Epoch 34/100\n",
      "226/226 [==============================] - 157s 694ms/step - loss: 1.0306 - accuracy: 0.6127 - val_loss: 1.0479 - val_accuracy: 0.6144\n",
      "Epoch 35/100\n",
      "226/226 [==============================] - 159s 706ms/step - loss: 1.0251 - accuracy: 0.6117 - val_loss: 1.0555 - val_accuracy: 0.6090\n",
      "Epoch 36/100\n",
      "226/226 [==============================] - 157s 694ms/step - loss: 1.0165 - accuracy: 0.6164 - val_loss: 1.0528 - val_accuracy: 0.6074\n",
      "Epoch 37/100\n",
      "226/226 [==============================] - 156s 692ms/step - loss: 1.0181 - accuracy: 0.6176 - val_loss: 1.0657 - val_accuracy: 0.6076\n",
      "Epoch 38/100\n",
      "226/226 [==============================] - 159s 704ms/step - loss: 1.0169 - accuracy: 0.6190 - val_loss: 1.0499 - val_accuracy: 0.6044\n",
      "Epoch 39/100\n",
      "226/226 [==============================] - 160s 707ms/step - loss: 1.0020 - accuracy: 0.6211 - val_loss: 1.0426 - val_accuracy: 0.6119\n",
      "Epoch 40/100\n",
      "226/226 [==============================] - 158s 700ms/step - loss: 0.9905 - accuracy: 0.6290 - val_loss: 1.0494 - val_accuracy: 0.6127\n",
      "Epoch 41/100\n",
      "226/226 [==============================] - 167s 740ms/step - loss: 0.9937 - accuracy: 0.6244 - val_loss: 1.0464 - val_accuracy: 0.6107\n",
      "Epoch 42/100\n",
      "226/226 [==============================] - 158s 699ms/step - loss: 0.9860 - accuracy: 0.6302 - val_loss: 1.0615 - val_accuracy: 0.6087\n",
      "Epoch 43/100\n",
      "226/226 [==============================] - 157s 696ms/step - loss: 0.9775 - accuracy: 0.6355 - val_loss: 1.0526 - val_accuracy: 0.6085\n",
      "Epoch 44/100\n",
      "226/226 [==============================] - 158s 698ms/step - loss: 0.9701 - accuracy: 0.6369 - val_loss: 1.0481 - val_accuracy: 0.6112\n",
      "Epoch 45/100\n",
      "226/226 [==============================] - 157s 695ms/step - loss: 0.9704 - accuracy: 0.6370 - val_loss: 1.0491 - val_accuracy: 0.6136\n",
      "Epoch 46/100\n",
      "226/226 [==============================] - 157s 695ms/step - loss: 0.9652 - accuracy: 0.6404 - val_loss: 1.0511 - val_accuracy: 0.6117\n",
      "Epoch 47/100\n",
      "226/226 [==============================] - 157s 695ms/step - loss: 0.9613 - accuracy: 0.6370 - val_loss: 1.0464 - val_accuracy: 0.6170\n",
      "Epoch 48/100\n",
      "226/226 [==============================] - 158s 697ms/step - loss: 0.9465 - accuracy: 0.6486 - val_loss: 1.0489 - val_accuracy: 0.6124\n",
      "Epoch 49/100\n",
      "226/226 [==============================] - 158s 699ms/step - loss: 0.9484 - accuracy: 0.6463 - val_loss: 1.0491 - val_accuracy: 0.6139\n",
      "Epoch 50/100\n",
      "226/226 [==============================] - 157s 695ms/step - loss: 0.9382 - accuracy: 0.6464 - val_loss: 1.0378 - val_accuracy: 0.6183\n",
      "Epoch 51/100\n",
      "226/226 [==============================] - 160s 706ms/step - loss: 0.9431 - accuracy: 0.6490 - val_loss: 1.0384 - val_accuracy: 0.6199\n",
      "Epoch 52/100\n",
      "226/226 [==============================] - 157s 697ms/step - loss: 0.9312 - accuracy: 0.6529 - val_loss: 1.0398 - val_accuracy: 0.6173\n",
      "Epoch 53/100\n",
      "226/226 [==============================] - 158s 698ms/step - loss: 0.9250 - accuracy: 0.6534 - val_loss: 1.0418 - val_accuracy: 0.6176\n",
      "Epoch 54/100\n",
      "226/226 [==============================] - 158s 699ms/step - loss: 0.9193 - accuracy: 0.6542 - val_loss: 1.0394 - val_accuracy: 0.6207\n",
      "Epoch 55/100\n",
      "226/226 [==============================] - 158s 701ms/step - loss: 0.9192 - accuracy: 0.6574 - val_loss: 1.0328 - val_accuracy: 0.6251\n",
      "Epoch 56/100\n",
      "226/226 [==============================] - 158s 700ms/step - loss: 0.9065 - accuracy: 0.6630 - val_loss: 1.0487 - val_accuracy: 0.6187\n",
      "Epoch 57/100\n",
      "226/226 [==============================] - 159s 703ms/step - loss: 0.8950 - accuracy: 0.6630 - val_loss: 1.0335 - val_accuracy: 0.6260\n",
      "Epoch 58/100\n",
      "226/226 [==============================] - 161s 710ms/step - loss: 0.8952 - accuracy: 0.6663 - val_loss: 1.0430 - val_accuracy: 0.6204\n",
      "Epoch 59/100\n",
      "226/226 [==============================] - 162s 719ms/step - loss: 0.8978 - accuracy: 0.6676 - val_loss: 1.0335 - val_accuracy: 0.6221\n",
      "Epoch 60/100\n",
      "226/226 [==============================] - 157s 695ms/step - loss: 0.8801 - accuracy: 0.6710 - val_loss: 1.0296 - val_accuracy: 0.6281\n",
      "Epoch 61/100\n",
      "226/226 [==============================] - 159s 702ms/step - loss: 0.8807 - accuracy: 0.6729 - val_loss: 1.0345 - val_accuracy: 0.6279\n",
      "Epoch 62/100\n",
      "226/226 [==============================] - 158s 697ms/step - loss: 0.8712 - accuracy: 0.6772 - val_loss: 1.0349 - val_accuracy: 0.6274\n",
      "Epoch 63/100\n",
      "226/226 [==============================] - 158s 697ms/step - loss: 0.8771 - accuracy: 0.6772 - val_loss: 1.0394 - val_accuracy: 0.6248\n",
      "Epoch 64/100\n",
      "226/226 [==============================] - 158s 700ms/step - loss: 0.8607 - accuracy: 0.6805 - val_loss: 1.0384 - val_accuracy: 0.6206\n",
      "Epoch 65/100\n",
      "226/226 [==============================] - 158s 699ms/step - loss: 0.8765 - accuracy: 0.6745 - val_loss: 1.0385 - val_accuracy: 0.6247\n",
      "Epoch 66/100\n",
      "226/226 [==============================] - 158s 701ms/step - loss: 0.8570 - accuracy: 0.6830 - val_loss: 1.0399 - val_accuracy: 0.6219\n",
      "Epoch 67/100\n",
      "226/226 [==============================] - 158s 698ms/step - loss: 0.8499 - accuracy: 0.6867 - val_loss: 1.0354 - val_accuracy: 0.6245\n",
      "Epoch 68/100\n",
      "226/226 [==============================] - 157s 695ms/step - loss: 0.8533 - accuracy: 0.6825 - val_loss: 1.0467 - val_accuracy: 0.6203\n",
      "Epoch 69/100\n",
      "226/226 [==============================] - 157s 694ms/step - loss: 0.8515 - accuracy: 0.6827 - val_loss: 1.0400 - val_accuracy: 0.6175\n",
      "Epoch 70/100\n",
      "226/226 [==============================] - 157s 695ms/step - loss: 0.8370 - accuracy: 0.6921 - val_loss: 1.0391 - val_accuracy: 0.6245\n",
      "Epoch 71/100\n",
      "226/226 [==============================] - 157s 697ms/step - loss: 0.8374 - accuracy: 0.6905 - val_loss: 1.0331 - val_accuracy: 0.6219\n",
      "Epoch 72/100\n",
      "226/226 [==============================] - 158s 699ms/step - loss: 0.8315 - accuracy: 0.6918 - val_loss: 1.0604 - val_accuracy: 0.6166\n",
      "Epoch 73/100\n",
      "226/226 [==============================] - 158s 698ms/step - loss: 0.8273 - accuracy: 0.6963 - val_loss: 1.0457 - val_accuracy: 0.6238\n",
      "Epoch 74/100\n",
      "226/226 [==============================] - 158s 698ms/step - loss: 0.8205 - accuracy: 0.6950 - val_loss: 1.0341 - val_accuracy: 0.6269\n",
      "Epoch 75/100\n",
      "226/226 [==============================] - 159s 702ms/step - loss: 0.8222 - accuracy: 0.6985 - val_loss: 1.0498 - val_accuracy: 0.6275\n",
      "Epoch 76/100\n",
      "226/226 [==============================] - 157s 696ms/step - loss: 0.8179 - accuracy: 0.6977 - val_loss: 1.0436 - val_accuracy: 0.6277\n",
      "Epoch 77/100\n",
      "226/226 [==============================] - 158s 698ms/step - loss: 0.8108 - accuracy: 0.7010 - val_loss: 1.0362 - val_accuracy: 0.6274\n",
      "Epoch 78/100\n",
      "226/226 [==============================] - 159s 702ms/step - loss: 0.8058 - accuracy: 0.7048 - val_loss: 1.0297 - val_accuracy: 0.6340\n",
      "Epoch 79/100\n",
      "226/226 [==============================] - 159s 705ms/step - loss: 0.8075 - accuracy: 0.7009 - val_loss: 1.0454 - val_accuracy: 0.6227\n",
      "Epoch 80/100\n",
      "226/226 [==============================] - 157s 697ms/step - loss: 0.8020 - accuracy: 0.7044 - val_loss: 1.0439 - val_accuracy: 0.6260\n",
      "Epoch 81/100\n",
      "226/226 [==============================] - 157s 696ms/step - loss: 0.7986 - accuracy: 0.7040 - val_loss: 1.0435 - val_accuracy: 0.6252\n",
      "Epoch 82/100\n",
      "226/226 [==============================] - 158s 698ms/step - loss: 0.7941 - accuracy: 0.7075 - val_loss: 1.0459 - val_accuracy: 0.6244\n",
      "Epoch 83/100\n",
      "226/226 [==============================] - 157s 695ms/step - loss: 0.7920 - accuracy: 0.7100 - val_loss: 1.0396 - val_accuracy: 0.6265\n",
      "Epoch 84/100\n",
      "226/226 [==============================] - 159s 703ms/step - loss: 0.7882 - accuracy: 0.7122 - val_loss: 1.0450 - val_accuracy: 0.6292\n",
      "Epoch 85/100\n",
      "226/226 [==============================] - 158s 698ms/step - loss: 0.7788 - accuracy: 0.7126 - val_loss: 1.0426 - val_accuracy: 0.6241\n",
      "Epoch 86/100\n",
      "226/226 [==============================] - 166s 734ms/step - loss: 0.7760 - accuracy: 0.7155 - val_loss: 1.0422 - val_accuracy: 0.6248\n",
      "Epoch 87/100\n",
      "226/226 [==============================] - 174s 771ms/step - loss: 0.7634 - accuracy: 0.7194 - val_loss: 1.0434 - val_accuracy: 0.6282\n",
      "Epoch 88/100\n",
      "226/226 [==============================] - 179s 792ms/step - loss: 0.7693 - accuracy: 0.7187 - val_loss: 1.0405 - val_accuracy: 0.6269\n",
      "Epoch 89/100\n",
      "226/226 [==============================] - 173s 768ms/step - loss: 0.7609 - accuracy: 0.7215 - val_loss: 1.0544 - val_accuracy: 0.6251\n",
      "Epoch 90/100\n",
      "226/226 [==============================] - 171s 758ms/step - loss: 0.7624 - accuracy: 0.7196 - val_loss: 1.0397 - val_accuracy: 0.6303\n",
      "Epoch 91/100\n",
      "226/226 [==============================] - 169s 750ms/step - loss: 0.7557 - accuracy: 0.7270 - val_loss: 1.0453 - val_accuracy: 0.6243\n",
      "Epoch 92/100\n",
      "226/226 [==============================] - 169s 749ms/step - loss: 0.7618 - accuracy: 0.7225 - val_loss: 1.0423 - val_accuracy: 0.6315\n",
      "Epoch 93/100\n",
      "226/226 [==============================] - 160s 706ms/step - loss: 0.7420 - accuracy: 0.7286 - val_loss: 1.0467 - val_accuracy: 0.6282\n",
      "Epoch 94/100\n",
      "226/226 [==============================] - 159s 703ms/step - loss: 0.7434 - accuracy: 0.7274 - val_loss: 1.0477 - val_accuracy: 0.6303\n",
      "Epoch 95/100\n",
      "226/226 [==============================] - 158s 701ms/step - loss: 0.7404 - accuracy: 0.7304 - val_loss: 1.0407 - val_accuracy: 0.6288\n",
      "Epoch 96/100\n",
      "226/226 [==============================] - 157s 696ms/step - loss: 0.7373 - accuracy: 0.7328 - val_loss: 1.0526 - val_accuracy: 0.6277\n",
      "Epoch 97/100\n",
      "226/226 [==============================] - 158s 698ms/step - loss: 0.7325 - accuracy: 0.7280 - val_loss: 1.0504 - val_accuracy: 0.6298\n",
      "Epoch 98/100\n",
      "226/226 [==============================] - 158s 701ms/step - loss: 0.7278 - accuracy: 0.7324 - val_loss: 1.0386 - val_accuracy: 0.6332\n",
      "Epoch 99/100\n",
      "226/226 [==============================] - 158s 698ms/step - loss: 0.7179 - accuracy: 0.7415 - val_loss: 1.0422 - val_accuracy: 0.6279\n",
      "Epoch 100/100\n",
      "226/226 [==============================] - 160s 708ms/step - loss: 0.7264 - accuracy: 0.7343 - val_loss: 1.0413 - val_accuracy: 0.6294\n"
     ]
    },
    {
     "data": {
      "text/plain": [
       "<keras.src.callbacks.History at 0x1f57dbbb410>"
      ]
     },
     "execution_count": 22,
     "metadata": {},
     "output_type": "execute_result"
    }
   ],
   "source": [
    "model.fit(x= norm_x,y = y_train, batch_size = 128, epochs = 100, validation_data = (norm_y,y_test)) "
   ]
  },
  {
   "cell_type": "code",
   "execution_count": 23,
   "id": "f9f52280-667d-479e-a87a-17023af05b36",
   "metadata": {},
   "outputs": [
    {
     "name": "stderr",
     "output_type": "stream",
     "text": [
      "C:\\Users\\ACER\\AppData\\Local\\Programs\\Python\\Python311\\Lib\\site-packages\\keras\\src\\engine\\training.py:3103: UserWarning: You are saving your model as an HDF5 file via `model.save()`. This file format is considered legacy. We recommend using instead the native Keras format, e.g. `model.save('my_model.keras')`.\n",
      "  saving_api.save_model(\n"
     ]
    }
   ],
   "source": [
    "model_json = model.to_json()\n",
    "with open(\"emotiondetector_new_file.json\",'w') as json_file:\n",
    "    json_file.write(model_json)\n",
    "model.save(\"emotiondetector.h5\")"
   ]
  },
  {
   "cell_type": "code",
   "execution_count": 2,
   "id": "7106ca1c-66e2-4e45-ab93-c36d3f08484c",
   "metadata": {},
   "outputs": [
    {
     "name": "stdout",
     "output_type": "stream",
     "text": [
      "WARNING:tensorflow:From c:\\Users\\ACER\\AppData\\Local\\Programs\\Python\\Python311\\Lib\\site-packages\\keras\\src\\backend.py:1398: The name tf.executing_eagerly_outside_functions is deprecated. Please use tf.compat.v1.executing_eagerly_outside_functions instead.\n",
      "\n",
      "WARNING:tensorflow:From c:\\Users\\ACER\\AppData\\Local\\Programs\\Python\\Python311\\Lib\\site-packages\\keras\\src\\layers\\pooling\\max_pooling2d.py:161: The name tf.nn.max_pool is deprecated. Please use tf.nn.max_pool2d instead.\n",
      "\n"
     ]
    }
   ],
   "source": [
    "json_file = open(\"emotiondetector.json\", \"r\")\n",
    "model_json = json_file.read()\n",
    "json_file.close()\n",
    "model = model_from_json(model_json)\n",
    "model.load_weights(\"emotiondetector.h5\")"
   ]
  },
  {
   "cell_type": "code",
   "execution_count": 3,
   "id": "40a88737-c2f3-4abc-80fe-06a2a22fec06",
   "metadata": {},
   "outputs": [],
   "source": [
    "label = ['angry','disgust','fear','happy','neutral','sad','surprise']\n"
   ]
  },
  {
   "cell_type": "code",
   "execution_count": 4,
   "id": "bc6f7572-dd00-46d6-b611-2f50335dc379",
   "metadata": {},
   "outputs": [],
   "source": [
    "def test_img_features(image):\n",
    "    img = load_img(image,grayscale =  True )\n",
    "    feature = np.array(img)\n",
    "    feature = feature.reshape(1,48,48,1)\n",
    "    return feature/255.0"
   ]
  },
  {
   "cell_type": "code",
   "execution_count": 5,
   "metadata": {},
   "outputs": [
    {
     "name": "stderr",
     "output_type": "stream",
     "text": [
      "c:\\Users\\ACER\\AppData\\Local\\Programs\\Python\\Python311\\Lib\\site-packages\\keras_preprocessing\\image\\utils.py:107: UserWarning: grayscale is deprecated. Please use color_mode = \"grayscale\"\n",
      "  warnings.warn('grayscale is deprecated. Please use '\n"
     ]
    },
    {
     "name": "stdout",
     "output_type": "stream",
     "text": [
      "1/1 [==============================] - 0s 137ms/step\n",
      "The image shown is  angry\n"
     ]
    },
    {
     "data": {
      "text/plain": [
       "<matplotlib.image.AxesImage at 0x221a88eadd0>"
      ]
     },
     "execution_count": 5,
     "metadata": {},
     "output_type": "execute_result"
    },
    {
     "data": {
      "image/png": "[encoded data removed]",
      "text/plain": [
       "<Figure size 640x480 with 1 Axes>"
      ]
     },
     "metadata": {},
     "output_type": "display_data"
    }
   ],
   "source": [
    "image = '1.jpg'\n",
    "img = test_img_features(image)\n",
    "pred = model.predict(img)\n",
    "pred_label = label[pred.argmax()]\n",
    "print(\"The image shown is \",pred_label)\n",
    "plt.imshow(img.reshape(48,48),cmap='gray')"
   ]
  },
  {
   "cell_type": "code",
   "execution_count": 6,
   "metadata": {},
   "outputs": [
    {
     "name": "stdout",
     "output_type": "stream",
     "text": [
      "1/1 [==============================] - 0s 31ms/step\n",
      "The image shown is  happy\n"
     ]
    },
    {
     "data": {
      "text/plain": [
       "<matplotlib.image.AxesImage at 0x221af958bd0>"
      ]
     },
     "execution_count": 6,
     "metadata": {},
     "output_type": "execute_result"
    },
    {
     "data": {
      "image/png": "[encoded data removed]",
      "text/plain": [
       "<Figure size 640x480 with 1 Axes>"
      ]
     },
     "metadata": {},
     "output_type": "display_data"
    }
   ],
   "source": [
    "image = '2.jpg'\n",
    "img = test_img_features(image)\n",
    "pred = model.predict(img)\n",
    "pred_label = label[pred.argmax()]\n",
    "print(\"The image shown is \",pred_label)\n",
    "plt.imshow(img.reshape(48,48),cmap='gray')"
   ]
  },
  {
   "cell_type": "code",
   "execution_count": 7,
   "metadata": {},
   "outputs": [
    {
     "name": "stdout",
     "output_type": "stream",
     "text": [
      "1/1 [==============================] - 0s 34ms/step\n",
      "The image shown is  sad\n"
     ]
    },
    {
     "data": {
      "text/plain": [
       "<matplotlib.image.AxesImage at 0x221af9d8dd0>"
      ]
     },
     "execution_count": 7,
     "metadata": {},
     "output_type": "execute_result"
    },
    {
     "data": {
      "image/png": "[encoded data removed]",
      "text/plain": [
       "<Figure size 640x480 with 1 Axes>"
      ]
     },
     "metadata": {},
     "output_type": "display_data"
    }
   ],
   "source": [
    "image = '3.jpg'\n",
    "img = test_img_features(image)\n",
    "pred = model.predict(img)\n",
    "pred_label = label[pred.argmax()]\n",
    "print(\"The image shown is \",pred_label)\n",
    "plt.imshow(img.reshape(48,48),cmap='gray')"
   ]
  },
  {
   "cell_type": "code",
   "execution_count": 8,
   "metadata": {},
   "outputs": [
    {
     "name": "stdout",
     "output_type": "stream",
     "text": [
      "1/1 [==============================] - 0s 41ms/step\n",
      "The image shown is  neutral\n"
     ]
    },
    {
     "data": {
      "text/plain": [
       "<matplotlib.image.AxesImage at 0x221afa32750>"
      ]
     },
     "execution_count": 8,
     "metadata": {},
     "output_type": "execute_result"
    },
    {
     "data": {
      "image/png": "[encoded data removed]",
      "text/plain": [
       "<Figure size 640x480 with 1 Axes>"
      ]
     },
     "metadata": {},
     "output_type": "display_data"
    }
   ],
   "source": [
    "image = '4.jpg'\n",
    "img = test_img_features(image)\n",
    "pred = model.predict(img)\n",
    "pred_label = label[pred.argmax()]\n",
    "print(\"The image shown is \",pred_label)\n",
    "plt.imshow(img.reshape(48,48),cmap='gray')"
   ]
  }
 ],
 "metadata": {
  "kernelspec": {
   "display_name": "Python 3 (ipykernel)",
   "language": "python",
   "name": "python3"
  },
  "language_info": {
   "codemirror_mode": {
    "name": "ipython",
    "version": 3
   },
   "file_extension": ".py",
   "mimetype": "text/x-python",
   "name": "python",
   "nbconvert_exporter": "python",
   "pygments_lexer": "ipython3",
   "version": "3.11.0"
  }
 },
 "nbformat": 4,
 "nbformat_minor": 5
}
